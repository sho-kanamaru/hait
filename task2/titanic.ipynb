{
 "cells": [
  {
   "cell_type": "code",
   "execution_count": 8,
   "metadata": {
    "collapsed": true
   },
   "outputs": [],
   "source": [
    "# モジュールのインポート\n",
    "import warnings\n",
    "warnings.filterwarnings('ignore')\n",
    "import pandas as pd\n",
    "import numpy as  np\n",
    "import seaborn as sns\n",
    "import matplotlib.pyplot as plt\n",
    "from numpy import nan\n",
    "% matplotlib inline\n",
    "\n",
    "data = pd.read_csv('titanic_train.csv')\n",
    "y = data[['Survived']]\n",
    "drop_col = ['Ticket', 'Cabin'] #Ticket(解読不可能), Cabin(欠損値多数)削除\n",
    "data = data.drop(drop_col, axis=1)"
   ]
  },
  {
   "cell_type": "code",
   "execution_count": 9,
   "metadata": {},
   "outputs": [
    {
     "name": "stdout",
     "output_type": "stream",
     "text": [
      "Mrの年齢の平均: 33.11839530332681\n",
      "Msの年齢の平均: 28.0\n",
      "Mrsの年齢の平均: 35.642857142857146\n",
      "Masterの年齢の平均: 4.574166666666667\n",
      "Missの年齢の平均: 21.773972602739725\n"
     ]
    }
   ],
   "source": [
    "Mr_mean = data[data.Name.str.contains(\"Mr.\")].Age.mean() #Mrの年齢の平均\n",
    "print(\"Mrの年齢の平均: \" + str(Mr_mean))\n",
    "Ms_mean = data[data.Name.str.contains(\"Ms.\")].Age.mean() #Msの年齢の平均\n",
    "print(\"Msの年齢の平均: \" + str(Ms_mean))\n",
    "Mrs_mean = data[data.Name.str.contains(\"Mrs.\")].Age.mean() #Msの年齢の平均\n",
    "print(\"Mrsの年齢の平均: \" + str(Mrs_mean))\n",
    "Master_mean = data[data.Name.str.contains(\"Master.\")].Age.mean() #Masterの年齢の平均\n",
    "print(\"Masterの年齢の平均: \" + str(Master_mean))\n",
    "Miss_mean = data[data.Name.str.contains(\"Miss.\")].Age.mean() #Missの年齢の平均\n",
    "print(\"Missの年齢の平均: \" + str(Miss_mean))"
   ]
  },
  {
   "cell_type": "code",
   "execution_count": 10,
   "metadata": {
    "collapsed": true,
    "scrolled": true
   },
   "outputs": [],
   "source": [
    "#新しくtitleカラムを追加し、敬称ごとに割り振り\n",
    "data[\"title\"] = np.zeros(len(data)).astype(int)\n",
    "\n",
    "for i in range(len(data)):\n",
    "    if \"Mr.\" in data.Name[i]:\n",
    "        data[\"title\"][i] = 0\n",
    "    elif \"Ms.\" in data.Name[i]:\n",
    "        data[\"title\"][i] = 1\n",
    "    elif \"Mrs.\" in data.Name[i]:\n",
    "        data[\"title\"][i] = 2\n",
    "    elif \"Master.\" in data.Name[i]:\n",
    "        data[\"title\"][i] = 3\n",
    "    elif \"Miss.\" in data.Name[i]:\n",
    "        data[\"title\"][i] = 4"
   ]
  },
  {
   "cell_type": "code",
   "execution_count": 11,
   "metadata": {
    "collapsed": true
   },
   "outputs": [],
   "source": [
    "#AgeのNaNを-1で補完\n",
    "data.Age = data.Age.fillna(-1)"
   ]
  },
  {
   "cell_type": "code",
   "execution_count": 12,
   "metadata": {
    "collapsed": true
   },
   "outputs": [],
   "source": [
    "#-1をそれぞれの敬称の年齢の平均で補完\n",
    "for i in range(len(data)):\n",
    "    if data.Age[i] == -1:\n",
    "        if data.title[i] == 0:\n",
    "            data.Age[i] = Mr_mean\n",
    "        elif data.title[i] == 1:\n",
    "            data.Age[i] = Ms_mean\n",
    "        elif data.title[i] == 2:\n",
    "            data.Age[i] = Mrs_mean\n",
    "        elif data.title[i] == 3:\n",
    "            data.Age[i] = Master_mean\n",
    "        elif data.title[i] == 4:\n",
    "            data.Age[i] = Miss_mean\n",
    "    else:\n",
    "        pass"
   ]
  },
  {
   "cell_type": "code",
   "execution_count": 13,
   "metadata": {},
   "outputs": [],
   "source": [
    "data = data.drop(['Name'], axis=1) #Nameの削除"
   ]
  },
  {
   "cell_type": "code",
   "execution_count": 14,
   "metadata": {
    "collapsed": true
   },
   "outputs": [],
   "source": [
    "data = data.drop(['title'], axis=1) #titleの削除"
   ]
  },
  {
   "cell_type": "code",
   "execution_count": 15,
   "metadata": {
    "collapsed": true
   },
   "outputs": [],
   "source": [
    "dummy_embarked = pd.get_dummies(data[\"Embarked\"])\n",
    "dummy_sex = pd.get_dummies(data[\"Sex\"])"
   ]
  },
  {
   "cell_type": "code",
   "execution_count": 16,
   "metadata": {
    "collapsed": true
   },
   "outputs": [],
   "source": [
    "data = data.drop([\"Sex\", \"Embarked\"], axis=1)\n",
    "data = pd.concat((data, dummy_embarked), axis=1)\n",
    "data = pd.concat((data, dummy_sex), axis=1)"
   ]
  },
  {
   "cell_type": "code",
   "execution_count": 17,
   "metadata": {},
   "outputs": [
    {
     "data": {
      "image/png": "[encoded data removed]",
      "text/plain": [
       "<matplotlib.figure.Figure at 0x1a102c1940>"
      ]
     },
     "metadata": {},
     "output_type": "display_data"
    }
   ],
   "source": [
    "split_data = []\n",
    "for survived in [0,1]:\n",
    "    split_data.append(data[data.Survived==survived])\n",
    "    \n",
    "temp = [i[\"Pclass\"].dropna() for i in split_data]\n",
    "plt.hist(temp, bins=5, normed=True, color=['red', 'blue'], label=['dead', 'alive'], histtype='bar', stacked=True)\n",
    "plt.title(\"Pclass/Survival rate\")\n",
    "plt.xlabel(\"Pclass\")\n",
    "plt.ylabel(\"Survival rate\")\n",
    "plt.legend() # 凡例を表示\n",
    "plt.show()\n",
    "#左から一等、二等、三等客室. 青が生存した人,赤が死亡した人.\n",
    "#一等客室の乗客は半分以上が生き残っている.\n",
    "#三等客室の乗客は1/5の人しか生き残っていない.\n",
    "#→一等客室の乗客が優先されて救命ボートに乗った?"
   ]
  },
  {
   "cell_type": "code",
   "execution_count": 18,
   "metadata": {},
   "outputs": [
    {
     "data": {
      "image/png": "[encoded data removed]",
      "text/plain": [
       "<matplotlib.figure.Figure at 0x1a102c1c50>"
      ]
     },
     "metadata": {},
     "output_type": "display_data"
    }
   ],
   "source": [
    "temp = [i[\"Age\"].dropna() for i in split_data]\n",
    "plt.hist(temp, normed=True, color=['red', 'blue'], label=['dead', 'alive'], histtype='bar', stacked=True, bins=16)\n",
    "plt.title(\"Age/Survival rate\")\n",
    "plt.xlabel(\"Age\")\n",
    "plt.ylabel(\"Survival rate\")\n",
    "plt.legend() # 凡例を表示\n",
    "plt.show()\n",
    "#お年寄りの生存率が低い.\n",
    "#幼児の生存率はかなり高い.\n",
    "#→赤ちゃんを連れた人は優先して救命ボートに乗れた?"
   ]
  },
  {
   "cell_type": "code",
   "execution_count": 19,
   "metadata": {
    "collapsed": true
   },
   "outputs": [],
   "source": [
    "data[\"FamilySize\"] = data[\"SibSp\"] + data[\"Parch\"] + 1\n",
    "data = data.drop([\"SibSp\", \"Parch\"], axis=1)"
   ]
  },
  {
   "cell_type": "code",
   "execution_count": 20,
   "metadata": {},
   "outputs": [
    {
     "data": {
      "image/png": "[encoded data removed]",
      "text/plain": [
       "<matplotlib.figure.Figure at 0x10a1071d0>"
      ]
     },
     "metadata": {},
     "output_type": "display_data"
    }
   ],
   "source": [
    "split_data = []\n",
    "for survived in [0,1]:\n",
    "    split_data.append(data[data.Survived==survived])\n",
    "    \n",
    "temp = [i[\"FamilySize\"].dropna() for i in split_data]\n",
    "plt.hist(temp, normed=True, color=['red', 'blue'], label=['dead', 'alive'], histtype='bar', stacked=True, bins=10)\n",
    "plt.title(\"FamilySize/Survival rate\")\n",
    "plt.xlabel(\"FamilySize\")\n",
    "plt.ylabel(\"Survival rate\")\n",
    "plt.legend() # 凡例を表示\n",
    "plt.show()\n",
    "\n",
    "#5人以上の家族は生存率が低い."
   ]
  },
  {
   "cell_type": "code",
   "execution_count": 21,
   "metadata": {},
   "outputs": [
    {
     "data": {
      "image/png": "[encoded data removed]",
      "text/plain": [
       "<matplotlib.figure.Figure at 0x10a1072e8>"
      ]
     },
     "metadata": {},
     "output_type": "display_data"
    }
   ],
   "source": [
    "temp = [i[\"Fare\"].dropna() for i in split_data]\n",
    "plt.hist(temp, normed=True, color=['red', 'blue'], label=['dead', 'alive'], histtype='bar', stacked=True, bins=20)\n",
    "plt.title(\"Fare/Survival rate\")\n",
    "plt.xlabel(\"Fare\")\n",
    "plt.ylabel(\"Survival rate\")\n",
    "plt.legend() # 凡例を表示\n",
    "plt.show()\n",
    "#Fareが安いと生存率が低い."
   ]
  },
  {
   "cell_type": "code",
   "execution_count": 22,
   "metadata": {},
   "outputs": [
    {
     "data": {
      "image/png": "[encoded data removed]",
      "text/plain": [
       "<matplotlib.figure.Figure at 0x1a18a4fcf8>"
      ]
     },
     "metadata": {},
     "output_type": "display_data"
    }
   ],
   "source": [
    "temp = [i[\"C\"].dropna() for i in split_data]\n",
    "plt.hist(temp, normed=True, color=['red', 'blue'], label=['dead', 'alive'], histtype='bar', stacked=True, bins=3)\n",
    "plt.title(\"Embarked=Cherbourg/Survival rate\")\n",
    "plt.xlabel(\"Embarked=Cherbourg(left: 0, right: 1)\")\n",
    "plt.ylabel(\"Survival rate\")\n",
    "plt.legend() # 凡例を表示\n",
    "plt.show()"
   ]
  },
  {
   "cell_type": "code",
   "execution_count": 23,
   "metadata": {},
   "outputs": [
    {
     "data": {
      "text/plain": [
       "<matplotlib.legend.Legend at 0x1a18e12c50>"
      ]
     },
     "execution_count": 23,
     "metadata": {},
     "output_type": "execute_result"
    },
    {
     "data": {
      "image/png": "[encoded data removed]",
      "text/plain": [
       "<matplotlib.figure.Figure at 0x10a038b70>"
      ]
     },
     "metadata": {},
     "output_type": "display_data"
    }
   ],
   "source": [
    "temp = [i[\"Q\"].dropna() for i in split_data]\n",
    "plt.hist(temp, normed=True, color=['red', 'blue'], label=['dead', 'alive'], histtype='bar', stacked=True, bins=3)\n",
    "plt.title(\"Embarked=Queenstown/Survival rate\")\n",
    "plt.xlabel(\"Embarked=Queenstown(left: 0, right: 1)\")\n",
    "plt.ylabel(\"Survival rate\")\n",
    "plt.legend() # 凡例を表示"
   ]
  },
  {
   "cell_type": "code",
   "execution_count": 24,
   "metadata": {},
   "outputs": [
    {
     "data": {
      "text/plain": [
       "<matplotlib.legend.Legend at 0x1a18f96630>"
      ]
     },
     "execution_count": 24,
     "metadata": {},
     "output_type": "execute_result"
    },
    {
     "data": {
      "image/png": "[encoded data removed]",
      "text/plain": [
       "<matplotlib.figure.Figure at 0x1a18dfb908>"
      ]
     },
     "metadata": {},
     "output_type": "display_data"
    }
   ],
   "source": [
    "temp = [i[\"S\"].dropna() for i in split_data]\n",
    "plt.hist(temp, normed=True, color=['red', 'blue'], label=['dead', 'alive'], histtype='bar', stacked=True, bins=3)\n",
    "plt.title(\"Embarked=Southampton/Survival rate\")\n",
    "plt.xlabel(\"Embarked=Southampton(left: 0, right: 1)\")\n",
    "plt.ylabel(\"Survival rate\")\n",
    "plt.legend() # 凡例を表示\n",
    "\n",
    "#Cだけやや生存率高い？"
   ]
  },
  {
   "cell_type": "code",
   "execution_count": 25,
   "metadata": {
    "collapsed": true
   },
   "outputs": [],
   "source": [
    "# data = data[:, 2:]\n",
    "data = data.drop(['PassengerId', 'Survived', 'C', 'Q', 'S'], axis=1)\n",
    "columns = data.columns"
   ]
  },
  {
   "cell_type": "code",
   "execution_count": 26,
   "metadata": {
    "collapsed": true
   },
   "outputs": [],
   "source": [
    "data = data.values"
   ]
  },
  {
   "cell_type": "code",
   "execution_count": 27,
   "metadata": {},
   "outputs": [
    {
     "data": {
      "text/plain": [
       "array(['Pclass', 'Age', 'Fare', 'female', 'male', 'FamilySize'],\n",
       "      dtype='<U10')"
      ]
     },
     "execution_count": 27,
     "metadata": {},
     "output_type": "execute_result"
    }
   ],
   "source": [
    "columns = list(columns)\n",
    "columns = np.array(columns)\n",
    "columns"
   ]
  },
  {
   "cell_type": "code",
   "execution_count": 28,
   "metadata": {
    "collapsed": true
   },
   "outputs": [],
   "source": [
    "y = y.values"
   ]
  },
  {
   "cell_type": "code",
   "execution_count": 29,
   "metadata": {},
   "outputs": [
    {
     "name": "stderr",
     "output_type": "stream",
     "text": [
      "/Users/sho/.pyenv/versions/anaconda3-5.0.1/lib/python3.6/site-packages/sklearn/cross_validation.py:41: DeprecationWarning: This module was deprecated in version 0.18 in favor of the model_selection module into which all the refactored classes and functions are moved. Also note that the interface of the new CV iterators are different from that of this module. This module will be removed in 0.20.\n",
      "  \"This module will be removed in 0.20.\", DeprecationWarning)\n"
     ]
    },
    {
     "name": "stdout",
     "output_type": "stream",
     "text": [
      "train accuracy: 0.979\n",
      "test  accuracy: 0.817\n"
     ]
    }
   ],
   "source": [
    "# ランダムフォレストによる学習\n",
    "from sklearn.cross_validation import train_test_split\n",
    "data_train, data_test, y_train, y_test = train_test_split(data, y, test_size=0.3, random_state=0)\n",
    "\n",
    "from sklearn.ensemble import RandomForestClassifier\n",
    "rfc = RandomForestClassifier(random_state=0, n_estimators=1000)\n",
    "rfc.fit(data_train, y_train)\n",
    "\n",
    "# 正答率を出力\n",
    "print('train accuracy: %.3f' % rfc.score(data_train, y_train))\n",
    "print('test  accuracy: %.3f' % rfc.score(data_test, y_test))"
   ]
  },
  {
   "cell_type": "code",
   "execution_count": 30,
   "metadata": {},
   "outputs": [
    {
     "data": {
      "text/plain": [
       "array([ 0.07900539,  0.28792883,  0.26546713,  0.14156554,  0.14461794,\n",
       "        0.08141518])"
      ]
     },
     "execution_count": 30,
     "metadata": {},
     "output_type": "execute_result"
    }
   ],
   "source": [
    "# 特徴量の重要度を出力\n",
    "importances = rfc.feature_importances_\n",
    "importances"
   ]
  },
  {
   "cell_type": "code",
   "execution_count": 31,
   "metadata": {},
   "outputs": [
    {
     "data": {
      "image/png": "[encoded data removed]",
      "text/plain": [
       "<matplotlib.figure.Figure at 0x1a19607668>"
      ]
     },
     "metadata": {},
     "output_type": "display_data"
    },
    {
     "data": {
      "text/plain": [
       "6"
      ]
     },
     "execution_count": 31,
     "metadata": {},
     "output_type": "execute_result"
    }
   ],
   "source": [
    "# 特徴量の重要度をグラフに出力\n",
    "n_features = len(columns)\n",
    "plt.figure(figsize=(12, 8))\n",
    "plt.barh(range(n_features), rfc.feature_importances_ , align='center')\n",
    "plt.yticks(np.arange(n_features), columns)\n",
    "plt.show()\n",
    "n_features\n",
    "\n",
    "#Embarked(乗船した港)は重要でない！"
   ]
  },
  {
   "cell_type": "code",
   "execution_count": 32,
   "metadata": {},
   "outputs": [
    {
     "data": {
      "text/plain": [
       "GradientBoostingClassifier(criterion='friedman_mse', init=None,\n",
       "              learning_rate=0.1, loss='deviance', max_depth=3,\n",
       "              max_features=None, max_leaf_nodes=None,\n",
       "              min_impurity_decrease=0.0, min_impurity_split=None,\n",
       "              min_samples_leaf=1, min_samples_split=2,\n",
       "              min_weight_fraction_leaf=0.0, n_estimators=100,\n",
       "              presort='auto', random_state=0, subsample=1.0, verbose=0,\n",
       "              warm_start=False)"
      ]
     },
     "execution_count": 32,
     "metadata": {},
     "output_type": "execute_result"
    }
   ],
   "source": [
    "# 勾配ブースティング木で学習させる\n",
    "from sklearn.ensemble import GradientBoostingClassifier\n",
    "gbct = GradientBoostingClassifier(random_state=0, max_depth=3, learning_rate=0.1)\n",
    "gbct.fit(data_train, y_train)"
   ]
  },
  {
   "cell_type": "code",
   "execution_count": 33,
   "metadata": {},
   "outputs": [
    {
     "name": "stdout",
     "output_type": "stream",
     "text": [
      "train accuracy: 0.904\n",
      "test  accuracy: 0.832\n"
     ]
    },
    {
     "data": {
      "text/plain": [
       "array([0, 0, 0, 1, 1, 0, 1, 1, 0, 1, 0, 1, 0, 1, 1, 1, 0, 0, 0, 1, 0, 1, 0,\n",
       "       0, 1, 1, 0, 1, 1, 0, 0, 1, 0, 0, 0, 1, 0, 0, 0, 0, 0, 0, 0, 0, 1, 0,\n",
       "       0, 1, 0, 0, 0, 0, 1, 0, 0, 0, 0, 0, 0, 0, 0, 0, 1, 0, 0, 0, 1, 0, 0,\n",
       "       1, 1, 0, 0, 0, 0, 1, 0, 0, 0, 0, 0, 1, 1, 0, 0, 1, 1, 0, 1, 1, 0, 0,\n",
       "       1, 1, 0, 0, 1, 0, 0, 0, 0, 0, 0, 0, 0, 1, 1, 0, 0, 1, 0, 1, 1, 1, 0,\n",
       "       1, 1, 1, 0, 1, 0, 0, 0, 0, 0, 0, 0, 0, 0, 0, 1, 0, 0, 1, 0, 0, 0, 0,\n",
       "       0, 0, 0, 1, 0, 1, 1, 1, 0, 1, 1, 0, 0, 1, 0, 0, 1, 0, 0, 0, 1, 1, 0,\n",
       "       0, 1, 1, 0, 0, 0, 0, 0, 0, 0, 1, 0, 0, 1, 0, 1, 0, 0, 1, 0, 0, 0, 0,\n",
       "       0, 0, 1, 0, 0, 1, 1, 0, 1, 1, 0, 0, 0, 1, 1, 0, 0, 0, 0, 1, 0, 0, 1,\n",
       "       0, 1, 0, 0, 0, 0, 1, 0, 0, 0, 1, 0, 1, 0, 1, 1, 0, 0, 0, 0, 1, 0, 0,\n",
       "       0, 1, 0, 1, 0, 0, 1, 1, 1, 0, 0, 1, 0, 0, 1, 1, 1, 0, 0, 1, 0, 0, 1,\n",
       "       0, 0, 1, 1, 0, 0, 0, 0, 0, 0, 0, 0, 0, 0, 0])"
      ]
     },
     "execution_count": 33,
     "metadata": {},
     "output_type": "execute_result"
    }
   ],
   "source": [
    "# 正答率を出力\n",
    "print('train accuracy: %.3f' % gbct.score(data_train, y_train))\n",
    "print('test  accuracy: %.3f' % gbct.score(data_test, y_test))\n",
    "y_test_pred = gbct.predict(data_test)\n",
    "y_test_pred"
   ]
  },
  {
   "cell_type": "code",
   "execution_count": 34,
   "metadata": {
    "scrolled": true
   },
   "outputs": [
    {
     "data": {
      "image/png": "[encoded data removed]",
      "text/plain": [
       "<matplotlib.figure.Figure at 0x1a18cc3ef0>"
      ]
     },
     "metadata": {},
     "output_type": "display_data"
    }
   ],
   "source": [
    "# 特徴量の重要度をグラフに出力\n",
    "n_features = len(columns)\n",
    "plt.figure(figsize=(12, 8))\n",
    "plt.barh(range(n_features), gbct.feature_importances_ , align='center')\n",
    "plt.yticks(np.arange(n_features), columns)\n",
    "plt.show()"
   ]
  },
  {
   "cell_type": "code",
   "execution_count": 35,
   "metadata": {},
   "outputs": [
    {
     "name": "stderr",
     "output_type": "stream",
     "text": [
      "/Users/sho/.pyenv/versions/anaconda3-5.0.1/lib/python3.6/site-packages/sklearn/grid_search.py:42: DeprecationWarning: This module was deprecated in version 0.18 in favor of the model_selection module into which all the refactored classes and functions are moved. This module will be removed in 0.20.\n",
      "  DeprecationWarning)\n"
     ]
    }
   ],
   "source": [
    "from sklearn.grid_search import GridSearchCV"
   ]
  },
  {
   "cell_type": "code",
   "execution_count": 36,
   "metadata": {
    "collapsed": true
   },
   "outputs": [],
   "source": [
    "from sklearn.model_selection import GridSearchCV"
   ]
  },
  {
   "cell_type": "code",
   "execution_count": 37,
   "metadata": {
    "collapsed": true
   },
   "outputs": [],
   "source": [
    "parameters = {\n",
    "    'n_estimators'      : [5, 10, 30, 50, 100, 500],\n",
    "    'random_state'      : [0],\n",
    "    'min_samples_split' : [3, 5, 10, 20, 50, 100],\n",
    "    'max_depth'         : [3, 5, 10]\n",
    "}"
   ]
  },
  {
   "cell_type": "code",
   "execution_count": 38,
   "metadata": {},
   "outputs": [
    {
     "name": "stdout",
     "output_type": "stream",
     "text": [
      "RandomForestClassifier(bootstrap=True, class_weight=None, criterion='gini',\n",
      "            max_depth=5, max_features='auto', max_leaf_nodes=None,\n",
      "            min_impurity_decrease=0.0, min_impurity_split=None,\n",
      "            min_samples_leaf=1, min_samples_split=3,\n",
      "            min_weight_fraction_leaf=0.0, n_estimators=50, n_jobs=1,\n",
      "            oob_score=False, random_state=0, verbose=0, warm_start=False)\n"
     ]
    }
   ],
   "source": [
    "classifier = GridSearchCV(RandomForestClassifier(), parameters)\n",
    "classifier.fit(data_train, y_train)\n",
    "print(classifier.best_estimator_)"
   ]
  },
  {
   "cell_type": "code",
   "execution_count": 39,
   "metadata": {},
   "outputs": [
    {
     "data": {
      "text/plain": [
       "{'max_depth': 5, 'min_samples_split': 3, 'n_estimators': 50, 'random_state': 0}"
      ]
     },
     "execution_count": 39,
     "metadata": {},
     "output_type": "execute_result"
    }
   ],
   "source": [
    "classifier.best_params_"
   ]
  },
  {
   "cell_type": "code",
   "execution_count": 40,
   "metadata": {},
   "outputs": [
    {
     "data": {
      "text/plain": [
       "0.8362760834670947"
      ]
     },
     "execution_count": 40,
     "metadata": {},
     "output_type": "execute_result"
    }
   ],
   "source": [
    "classifier.best_score_"
   ]
  },
  {
   "cell_type": "code",
   "execution_count": 41,
   "metadata": {},
   "outputs": [
    {
     "data": {
      "text/plain": [
       "0.83208955223880599"
      ]
     },
     "execution_count": 41,
     "metadata": {},
     "output_type": "execute_result"
    }
   ],
   "source": [
    "classifier.score(data_test, y_test)"
   ]
  },
  {
   "cell_type": "code",
   "execution_count": null,
   "metadata": {
    "collapsed": true
   },
   "outputs": [],
   "source": []
  }
 ],
 "metadata": {
  "kernelspec": {
   "display_name": "Python 3",
   "language": "python",
   "name": "python3"
  },
  "language_info": {
   "codemirror_mode": {
    "name": "ipython",
    "version": 3
   },
   "file_extension": ".py",
   "mimetype": "text/x-python",
   "name": "python",
   "nbconvert_exporter": "python",
   "pygments_lexer": "ipython3",
   "version": "3.6.3"
  }
 },
 "nbformat": 4,
 "nbformat_minor": 2
}
